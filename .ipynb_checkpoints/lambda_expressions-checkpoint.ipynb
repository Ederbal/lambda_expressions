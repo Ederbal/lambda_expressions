{
 "cells": [
  {
   "cell_type": "markdown",
   "metadata": {},
   "source": [
    "## Expressões lambda em Python\n",
    "\n",
    "*uma introdução ao conceito das funções anônimas, e utilizações deste recurso.*\n",
    "\n",
    "Estou trazendo esse tópico hoje pois ele realmente é muito importante na nossa jornada de desbravação das bibliotecas e códigos alheios.\n",
    "\n",
    "Estamos lá entendendo todo o código, e do nada aparece uma função lambda, quando não estamos acostumados parece um nó na cabeça e uma dúvida: o que aconteceu aqui?\n",
    "\n",
    "Talvez pela sua sintaxe simples e resumida, por fazer muito com pouco, este recurso tem a habilidade secreta de nos confundir, mas depois desta leitura você estará apto a compreender as expressões lambda com facilidade e não passar mais por isso.\n",
    "\n",
    "Obs: já fui vítima muitas vezes desta situação. :(\n",
    "\n",
    "## O que são expressões lambda?\n",
    "\n",
    "São funções anônimas que podem ser criadas com a palavra-chave *lambda*. Elas podem ser utilizadas sempre que funções sejam necessárias em seu código.\n",
    "\n",
    "Porém estas expressões são restritas a uma única expressão. \n",
    "\n",
    "Outra característa, e a mais notável, é que sua sintaxe é muito mais curta do que uma função normal em Python.\n",
    "\n",
    "Uma característica importante é que estas funções possuem um return implicito, ou seja, toda função lambda retornará o resultado final da operação.\n",
    "\n",
    "## Hello World nas funções lambda\n",
    "\n",
    "Antes de mais nada vamos por a mão na massa, e já executar uma função lambda!"
   ]
  },
  {
   "cell_type": "code",
   "execution_count": 28,
   "metadata": {},
   "outputs": [
    {
     "data": {
      "text/plain": [
       "10"
      ]
     },
     "execution_count": 28,
     "metadata": {},
     "output_type": "execute_result"
    }
   ],
   "source": [
    "# Nossa primeira função lambda\n",
    "f = lambda a, b: a * b\n",
    "\n",
    "# Passando os argumentos para executar a função\n",
    "f(5,2)"
   ]
  },
  {
   "cell_type": "markdown",
   "metadata": {},
   "source": [
    "## O que acabou de acontecer?\n",
    "\n",
    "Perceba que definimos a função lambda na primeira sentença, atribuímos a função a uma variável e por fim executamos a função com os dois argumentos necessários para ela.\n",
    "\n",
    "Vamos entender agora como construiremos nossas funções\n",
    "\n",
    "## Sintaxe da função lambda\n",
    "\n",
    "O passo a passo para formação de uma função lambda\n",
    "\n",
    "1. Definimos a função com a palavra **lambda**\n",
    "2. Após definir a função os parâmetros devem ser inseridos\n",
    "3. Colocamos **:** após os parâmetros\n",
    "4. Inserimos a lógica da função\n",
    "5. Podemos definir uma variável para a função lambda ( opcional )"
   ]
  },
  {
   "cell_type": "code",
   "execution_count": 1,
   "metadata": {},
   "outputs": [
    {
     "data": {
      "text/plain": [
       "3"
      ]
     },
     "execution_count": 1,
     "metadata": {},
     "output_type": "execute_result"
    }
   ],
   "source": [
    "# Veja mais um exemplo\n",
    "soma = lambda x, y: x + y\n",
    "\n",
    "soma(1,2)"
   ]
  },
  {
   "cell_type": "markdown",
   "metadata": {},
   "source": [
    "## Definir a variável é opcional\n",
    "\n",
    "Como dito antes, podemos fazer uma função lambda sem a utilização de variável.\n",
    "\n",
    "Assim ela vai ser executada assim que for definida, confira a sintaxe da função lambda soma sem variável:"
   ]
  },
  {
   "cell_type": "code",
   "execution_count": 2,
   "metadata": {},
   "outputs": [
    {
     "data": {
      "text/plain": [
       "3"
      ]
     },
     "execution_count": 2,
     "metadata": {},
     "output_type": "execute_result"
    }
   ],
   "source": [
    "(lambda x, y: x + y)(1,2)"
   ]
  },
  {
   "cell_type": "markdown",
   "metadata": {},
   "source": [
    "Nós envolvemos tanto a função, quanto os parâmetros entre parênteses, assim ela não vai necessitar de estar numa variável. Em outras linguagens temos funções anônimas que também seguem este padrão para serem 'autoexecutadas' sem precisar a chamada.\n",
    "\n",
    "## Diferença de uma função normal\n",
    "\n",
    "Vamos fazer agora um rapido comparativo entre função lambda e função normal:"
   ]
  },
  {
   "cell_type": "code",
   "execution_count": 6,
   "metadata": {},
   "outputs": [
    {
     "data": {
      "text/plain": [
       "3"
      ]
     },
     "execution_count": 6,
     "metadata": {},
     "output_type": "execute_result"
    }
   ],
   "source": [
    "# Função normal definição e execução\n",
    "def subtrair(x,y):\n",
    "    return x - y\n",
    "\n",
    "subtrair(5,2)"
   ]
  },
  {
   "cell_type": "code",
   "execution_count": 7,
   "metadata": {},
   "outputs": [
    {
     "data": {
      "text/plain": [
       "3"
      ]
     },
     "execution_count": 7,
     "metadata": {},
     "output_type": "execute_result"
    }
   ],
   "source": [
    "# Função lambda definição e execução\n",
    "s = lambda x,y: x - y\n",
    "\n",
    "s(5,2)"
   ]
  },
  {
   "cell_type": "markdown",
   "metadata": {},
   "source": [
    "As diferenças são:\n",
    "\n",
    "- Não precisamos do **def** para definir\n",
    "- Não precisamos do **return**\n",
    "- Podemos formar a função lambda e executar na mesma linha"
   ]
  },
  {
   "cell_type": "code",
   "execution_count": null,
   "metadata": {},
   "outputs": [],
   "source": [
    "## Diferença de uma função normal\n"
   ]
  }
 ],
 "metadata": {
  "kernelspec": {
   "display_name": "Python 3",
   "language": "python",
   "name": "python3"
  },
  "language_info": {
   "codemirror_mode": {
    "name": "ipython",
    "version": 3
   },
   "file_extension": ".py",
   "mimetype": "text/x-python",
   "name": "python",
   "nbconvert_exporter": "python",
   "pygments_lexer": "ipython3",
   "version": "3.6.4"
  }
 },
 "nbformat": 4,
 "nbformat_minor": 2
}
